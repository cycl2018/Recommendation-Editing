{
 "cells": [
  {
   "cell_type": "code",
   "execution_count": 3,
   "metadata": {},
   "outputs": [],
   "source": [
    "from re import split\n",
    "def get_data(path):\n",
    "    pos_data = []\n",
    "    neg_data = []\n",
    "    with open(path,'r') as f:\n",
    "        for line in f:\n",
    "            items = split(' ', line.strip())\n",
    "            user_id = items[0]\n",
    "            item_id = items[1]\n",
    "            weight = items[2]\n",
    "            if float(weight) > 3:\n",
    "                pos_data.append([user_id, item_id])\n",
    "            else:\n",
    "                neg_data.append([user_id,item_id]) \n",
    "    return pos_data,neg_data"
   ]
  },
  {
   "cell_type": "code",
   "execution_count": 4,
   "metadata": {},
   "outputs": [],
   "source": [
    "train_path = '/data3/lcy/SELFRec/dataset/final_dataset/epinions/train_5.txt'\n",
    "val_path = '/data3/lcy/SELFRec/dataset/final_dataset/epinions/valid_5.txt'\n",
    "test_path = '/data3/lcy/SELFRec/dataset/final_dataset/epinions/test_5.txt'"
   ]
  },
  {
   "cell_type": "code",
   "execution_count": 5,
   "metadata": {},
   "outputs": [],
   "source": [
    "train_pos,train_neg = get_data(train_path)\n",
    "val_pos,val_neg = get_data(val_path) \n",
    "test_pos,test_neg = get_data(test_path) "
   ]
  },
  {
   "cell_type": "code",
   "execution_count": 6,
   "metadata": {},
   "outputs": [],
   "source": [
    "with open('train.txt','w') as f:\n",
    "    for data in train_pos:\n",
    "        f.write(f'{data[0]} {data[1]} 1\\n')\n",
    "    for data in val_pos:\n",
    "        f.write(f'{data[0]} {data[1]} 1\\n')\n",
    "with open('test.txt','w') as f:\n",
    "    for data in test_pos:\n",
    "        f.write(f'{data[0]} {data[1]} 1\\n')\n",
    "with open('neg.txt','w') as f:\n",
    "    for data in train_neg:\n",
    "        f.write(f'{data[0]} {data[1]} 0\\n')\n",
    "    for data in val_neg:\n",
    "        f.write(f'{data[0]} {data[1]} 0\\n')\n",
    "    for data in test_neg:\n",
    "        f.write(f'{data[0]} {data[1]} 0\\n')"
   ]
  }
 ],
 "metadata": {
  "kernelspec": {
   "display_name": "py39",
   "language": "python",
   "name": "python3"
  },
  "language_info": {
   "codemirror_mode": {
    "name": "ipython",
    "version": 3
   },
   "file_extension": ".py",
   "mimetype": "text/x-python",
   "name": "python",
   "nbconvert_exporter": "python",
   "pygments_lexer": "ipython3",
   "version": "3.9.18"
  }
 },
 "nbformat": 4,
 "nbformat_minor": 2
}
