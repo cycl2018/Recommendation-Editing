{
 "cells": [
  {
   "cell_type": "code",
   "execution_count": 1,
   "metadata": {},
   "outputs": [],
   "source": [
    "import numpy as np \n",
    "import pandas as pd \n",
    "import random"
   ]
  },
  {
   "cell_type": "code",
   "execution_count": 2,
   "metadata": {},
   "outputs": [],
   "source": [
    "data = pd.read_csv('QB-video.csv',usecols=['user_id', 'item_id', 'click'])"
   ]
  },
  {
   "cell_type": "code",
   "execution_count": 3,
   "metadata": {},
   "outputs": [],
   "source": [
    "data = data.drop_duplicates(['user_id','item_id'])"
   ]
  },
  {
   "cell_type": "code",
   "execution_count": 4,
   "metadata": {},
   "outputs": [
    {
     "data": {
      "text/html": [
       "<div>\n",
       "<style scoped>\n",
       "    .dataframe tbody tr th:only-of-type {\n",
       "        vertical-align: middle;\n",
       "    }\n",
       "\n",
       "    .dataframe tbody tr th {\n",
       "        vertical-align: top;\n",
       "    }\n",
       "\n",
       "    .dataframe thead th {\n",
       "        text-align: right;\n",
       "    }\n",
       "</style>\n",
       "<table border=\"1\" class=\"dataframe\">\n",
       "  <thead>\n",
       "    <tr style=\"text-align: right;\">\n",
       "      <th></th>\n",
       "      <th>user_id</th>\n",
       "      <th>item_id</th>\n",
       "      <th>click</th>\n",
       "    </tr>\n",
       "  </thead>\n",
       "  <tbody>\n",
       "    <tr>\n",
       "      <th>0</th>\n",
       "      <td>3502303</td>\n",
       "      <td>32277</td>\n",
       "      <td>0</td>\n",
       "    </tr>\n",
       "    <tr>\n",
       "      <th>1</th>\n",
       "      <td>3502303</td>\n",
       "      <td>1370829</td>\n",
       "      <td>0</td>\n",
       "    </tr>\n",
       "    <tr>\n",
       "      <th>2</th>\n",
       "      <td>3502303</td>\n",
       "      <td>1357499</td>\n",
       "      <td>1</td>\n",
       "    </tr>\n",
       "    <tr>\n",
       "      <th>3</th>\n",
       "      <td>3502303</td>\n",
       "      <td>1353465</td>\n",
       "      <td>0</td>\n",
       "    </tr>\n",
       "    <tr>\n",
       "      <th>4</th>\n",
       "      <td>3502303</td>\n",
       "      <td>1354715</td>\n",
       "      <td>1</td>\n",
       "    </tr>\n",
       "    <tr>\n",
       "      <th>...</th>\n",
       "      <td>...</td>\n",
       "      <td>...</td>\n",
       "      <td>...</td>\n",
       "    </tr>\n",
       "    <tr>\n",
       "      <th>1975078</th>\n",
       "      <td>3729300</td>\n",
       "      <td>3202887</td>\n",
       "      <td>0</td>\n",
       "    </tr>\n",
       "    <tr>\n",
       "      <th>1975079</th>\n",
       "      <td>3729300</td>\n",
       "      <td>1434577</td>\n",
       "      <td>0</td>\n",
       "    </tr>\n",
       "    <tr>\n",
       "      <th>1975080</th>\n",
       "      <td>3729300</td>\n",
       "      <td>3202945</td>\n",
       "      <td>1</td>\n",
       "    </tr>\n",
       "    <tr>\n",
       "      <th>1975081</th>\n",
       "      <td>3729300</td>\n",
       "      <td>3305030</td>\n",
       "      <td>0</td>\n",
       "    </tr>\n",
       "    <tr>\n",
       "      <th>1975082</th>\n",
       "      <td>3729300</td>\n",
       "      <td>3259323</td>\n",
       "      <td>0</td>\n",
       "    </tr>\n",
       "  </tbody>\n",
       "</table>\n",
       "<p>1975083 rows × 3 columns</p>\n",
       "</div>"
      ],
      "text/plain": [
       "         user_id  item_id  click\n",
       "0        3502303    32277      0\n",
       "1        3502303  1370829      0\n",
       "2        3502303  1357499      1\n",
       "3        3502303  1353465      0\n",
       "4        3502303  1354715      1\n",
       "...          ...      ...    ...\n",
       "1975078  3729300  3202887      0\n",
       "1975079  3729300  1434577      0\n",
       "1975080  3729300  3202945      1\n",
       "1975081  3729300  3305030      0\n",
       "1975082  3729300  3259323      0\n",
       "\n",
       "[1975083 rows x 3 columns]"
      ]
     },
     "execution_count": 4,
     "metadata": {},
     "output_type": "execute_result"
    }
   ],
   "source": [
    "# core 10 process \n",
    "pos_data = data[data['click'] == 1].reset_index(drop=True)\n",
    "while True:\n",
    "    org_num = pos_data.shape[0]\n",
    "    # process user \n",
    "    user_id_counts = pos_data['user_id'].value_counts()\n",
    "    save_user_ids = user_id_counts[user_id_counts >= 10].index\n",
    "    save_rows = pos_data['user_id'].isin(save_user_ids)\n",
    "    pos_data = pos_data[save_rows].reset_index(drop=True)\n",
    "    # process item \n",
    "    item_id_counts = pos_data['item_id'].value_counts()\n",
    "    save_item_ids = item_id_counts[item_id_counts >= 10].index\n",
    "    save_rows = pos_data['item_id'].isin(save_item_ids)\n",
    "    pos_data = pos_data[save_rows].reset_index(drop=True)\n",
    "    if org_num == pos_data.shape[0]:\n",
    "        break \n",
    "save_data_row = (data['user_id'].isin(save_user_ids)) & (data['item_id'].isin(save_item_ids))\n",
    "data = data[save_data_row].reset_index(drop=True) \n",
    "data "
   ]
  },
  {
   "cell_type": "code",
   "execution_count": 5,
   "metadata": {},
   "outputs": [],
   "source": [
    "from sklearn.preprocessing import LabelEncoder"
   ]
  },
  {
   "cell_type": "code",
   "execution_count": 6,
   "metadata": {},
   "outputs": [
    {
     "data": {
      "text/html": [
       "<div>\n",
       "<style scoped>\n",
       "    .dataframe tbody tr th:only-of-type {\n",
       "        vertical-align: middle;\n",
       "    }\n",
       "\n",
       "    .dataframe tbody tr th {\n",
       "        vertical-align: top;\n",
       "    }\n",
       "\n",
       "    .dataframe thead th {\n",
       "        text-align: right;\n",
       "    }\n",
       "</style>\n",
       "<table border=\"1\" class=\"dataframe\">\n",
       "  <thead>\n",
       "    <tr style=\"text-align: right;\">\n",
       "      <th></th>\n",
       "      <th>user_id</th>\n",
       "      <th>item_id</th>\n",
       "      <th>click</th>\n",
       "    </tr>\n",
       "  </thead>\n",
       "  <tbody>\n",
       "    <tr>\n",
       "      <th>0</th>\n",
       "      <td>1707</td>\n",
       "      <td>680</td>\n",
       "      <td>0</td>\n",
       "    </tr>\n",
       "    <tr>\n",
       "      <th>1</th>\n",
       "      <td>1707</td>\n",
       "      <td>4153</td>\n",
       "      <td>0</td>\n",
       "    </tr>\n",
       "    <tr>\n",
       "      <th>2</th>\n",
       "      <td>1707</td>\n",
       "      <td>2970</td>\n",
       "      <td>1</td>\n",
       "    </tr>\n",
       "    <tr>\n",
       "      <th>3</th>\n",
       "      <td>1707</td>\n",
       "      <td>2390</td>\n",
       "      <td>0</td>\n",
       "    </tr>\n",
       "    <tr>\n",
       "      <th>4</th>\n",
       "      <td>1707</td>\n",
       "      <td>2609</td>\n",
       "      <td>1</td>\n",
       "    </tr>\n",
       "    <tr>\n",
       "      <th>...</th>\n",
       "      <td>...</td>\n",
       "      <td>...</td>\n",
       "      <td>...</td>\n",
       "    </tr>\n",
       "    <tr>\n",
       "      <th>1975078</th>\n",
       "      <td>1878</td>\n",
       "      <td>9219</td>\n",
       "      <td>0</td>\n",
       "    </tr>\n",
       "    <tr>\n",
       "      <th>1975079</th>\n",
       "      <td>1878</td>\n",
       "      <td>6137</td>\n",
       "      <td>0</td>\n",
       "    </tr>\n",
       "    <tr>\n",
       "      <th>1975080</th>\n",
       "      <td>1878</td>\n",
       "      <td>9253</td>\n",
       "      <td>1</td>\n",
       "    </tr>\n",
       "    <tr>\n",
       "      <th>1975081</th>\n",
       "      <td>1878</td>\n",
       "      <td>15345</td>\n",
       "      <td>0</td>\n",
       "    </tr>\n",
       "    <tr>\n",
       "      <th>1975082</th>\n",
       "      <td>1878</td>\n",
       "      <td>13941</td>\n",
       "      <td>0</td>\n",
       "    </tr>\n",
       "  </tbody>\n",
       "</table>\n",
       "<p>1975083 rows × 3 columns</p>\n",
       "</div>"
      ],
      "text/plain": [
       "         user_id  item_id  click\n",
       "0           1707      680      0\n",
       "1           1707     4153      0\n",
       "2           1707     2970      1\n",
       "3           1707     2390      0\n",
       "4           1707     2609      1\n",
       "...          ...      ...    ...\n",
       "1975078     1878     9219      0\n",
       "1975079     1878     6137      0\n",
       "1975080     1878     9253      1\n",
       "1975081     1878    15345      0\n",
       "1975082     1878    13941      0\n",
       "\n",
       "[1975083 rows x 3 columns]"
      ]
     },
     "execution_count": 6,
     "metadata": {},
     "output_type": "execute_result"
    }
   ],
   "source": [
    "user_trans = LabelEncoder()\n",
    "data['user_id'] = user_trans.fit_transform(data['user_id'])\n",
    "item_trans = LabelEncoder() \n",
    "data['item_id'] = item_trans.fit_transform(data['item_id'])\n",
    "data"
   ]
  },
  {
   "cell_type": "code",
   "execution_count": 7,
   "metadata": {},
   "outputs": [
    {
     "data": {
      "text/plain": [
       "(27941, 15383)"
      ]
     },
     "execution_count": 7,
     "metadata": {},
     "output_type": "execute_result"
    }
   ],
   "source": [
    "user_num = data['user_id'].max() + 1 \n",
    "item_num = data['item_id'].max() + 1\n",
    "user_num,item_num "
   ]
  },
  {
   "cell_type": "code",
   "execution_count": 8,
   "metadata": {},
   "outputs": [],
   "source": [
    "pos_data = data[data['click'] == 1].reset_index(drop=True)\n",
    "neg_data = data[data['click'] != 1].reset_index(drop=True) "
   ]
  },
  {
   "cell_type": "code",
   "execution_count": 9,
   "metadata": {},
   "outputs": [],
   "source": [
    "interaction_data = {}\n",
    "dislike_data = {}\n",
    "for user,item in zip(pos_data['user_id'],pos_data['item_id']):\n",
    "    if user not in interaction_data:\n",
    "        interaction_data[user] = [] \n",
    "    interaction_data[user].append(item) \n",
    "for user,item in zip(neg_data['user_id'],neg_data['item_id']):\n",
    "    if user not in dislike_data:\n",
    "        dislike_data[user] = [] \n",
    "    dislike_data[user].append(item)   "
   ]
  },
  {
   "cell_type": "code",
   "execution_count": 10,
   "metadata": {},
   "outputs": [],
   "source": [
    "# split train/val set in 8:2 ratio \n",
    "train_inter = {} \n",
    "val_inter = {} \n",
    "for user in range(user_num):\n",
    "    inter_num = len(interaction_data[user])\n",
    "    assert(inter_num == len(set(interaction_data[user])))\n",
    "    train_num = int(0.8 * inter_num) \n",
    "    random.shuffle(interaction_data[user])\n",
    "    train_inter[user] = interaction_data[user][:train_num] \n",
    "    val_inter[user] = interaction_data[user][train_num:]"
   ]
  },
  {
   "cell_type": "code",
   "execution_count": 11,
   "metadata": {},
   "outputs": [],
   "source": [
    "with open('train.txt','w') as f:\n",
    "    for user in train_inter:\n",
    "        for item in train_inter[user]:\n",
    "            f.write(f'{user} {item} 1\\n')\n",
    "with open('test.txt','w') as f:\n",
    "    for user in val_inter:\n",
    "        for item in val_inter[user]:\n",
    "            f.write(f'{user} {item} 1\\n')\n",
    "with open('neg.txt','w') as f:\n",
    "    for user in dislike_data:\n",
    "        for item in dislike_data[user]:\n",
    "            f.write(f'{user} {item} 1\\n')"
   ]
  },
  {
   "cell_type": "code",
   "execution_count": 11,
   "metadata": {},
   "outputs": [],
   "source": [
    "train_data = pd.DataFrame(list(train_inter.items()), columns=['user', 'item_list'])\n",
    "train_data.to_csv('train.csv',index=False)\n",
    "val_data = pd.DataFrame(list(val_inter.items()), columns=['user', 'item_list'])\n",
    "val_data.to_csv('val.csv',index=False)\n",
    "neg_data = pd.DataFrame(list(dislike_data.items()), columns=['user', 'item_list'])\n",
    "neg_data.to_csv('neg.csv',index=False)"
   ]
  }
 ],
 "metadata": {
  "kernelspec": {
   "display_name": "py3.8",
   "language": "python",
   "name": "python3"
  },
  "language_info": {
   "codemirror_mode": {
    "name": "ipython",
    "version": 3
   },
   "file_extension": ".py",
   "mimetype": "text/x-python",
   "name": "python",
   "nbconvert_exporter": "python",
   "pygments_lexer": "ipython3",
   "version": "3.9.18"
  },
  "orig_nbformat": 4
 },
 "nbformat": 4,
 "nbformat_minor": 2
}
